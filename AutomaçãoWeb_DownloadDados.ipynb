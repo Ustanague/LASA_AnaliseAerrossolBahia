{
 "cells": [
  {
   "cell_type": "markdown",
   "id": "a2b5ce6e",
   "metadata": {},
   "source": [
    "# Baixando os arquivos:"
   ]
  },
  {
   "cell_type": "markdown",
   "id": "2ce45560",
   "metadata": {},
   "source": [
    "## Packages:"
   ]
  },
  {
   "cell_type": "markdown",
   "id": "5c438c26",
   "metadata": {},
   "source": [
    "## Instalação:"
   ]
  },
  {
   "cell_type": "code",
   "execution_count": 1,
   "id": "fbaa2f22",
   "metadata": {},
   "outputs": [
    {
     "name": "stdout",
     "output_type": "stream",
     "text": [
      "Requirement already satisfied: selenium in e:\\anaconda3\\envs\\datamind\\lib\\site-packages (4.8.0)\n",
      "Requirement already satisfied: trio-websocket~=0.9 in e:\\anaconda3\\envs\\datamind\\lib\\site-packages (from selenium) (0.9.2)\n",
      "Requirement already satisfied: certifi>=2021.10.8 in e:\\anaconda3\\envs\\datamind\\lib\\site-packages (from selenium) (2022.12.7)\n",
      "Requirement already satisfied: trio~=0.17 in e:\\anaconda3\\envs\\datamind\\lib\\site-packages (from selenium) (0.22.0)\n",
      "Requirement already satisfied: urllib3[socks]~=1.26 in e:\\anaconda3\\envs\\datamind\\lib\\site-packages (from selenium) (1.26.14)\n",
      "Requirement already satisfied: attrs>=19.2.0 in e:\\anaconda3\\envs\\datamind\\lib\\site-packages (from trio~=0.17->selenium) (22.2.0)\n",
      "Requirement already satisfied: sortedcontainers in e:\\anaconda3\\envs\\datamind\\lib\\site-packages (from trio~=0.17->selenium) (2.4.0)\n",
      "Requirement already satisfied: async-generator>=1.9 in e:\\anaconda3\\envs\\datamind\\lib\\site-packages (from trio~=0.17->selenium) (1.10)\n",
      "Requirement already satisfied: cffi>=1.14 in e:\\anaconda3\\envs\\datamind\\lib\\site-packages (from trio~=0.17->selenium) (1.15.1)\n",
      "Requirement already satisfied: idna in e:\\anaconda3\\envs\\datamind\\lib\\site-packages (from trio~=0.17->selenium) (3.4)\n",
      "Requirement already satisfied: sniffio in e:\\anaconda3\\envs\\datamind\\lib\\site-packages (from trio~=0.17->selenium) (1.3.0)\n",
      "Requirement already satisfied: exceptiongroup>=1.0.0rc9 in e:\\anaconda3\\envs\\datamind\\lib\\site-packages (from trio~=0.17->selenium) (1.1.0)\n",
      "Requirement already satisfied: outcome in e:\\anaconda3\\envs\\datamind\\lib\\site-packages (from trio~=0.17->selenium) (1.2.0)\n",
      "Requirement already satisfied: wsproto>=0.14 in e:\\anaconda3\\envs\\datamind\\lib\\site-packages (from trio-websocket~=0.9->selenium) (1.2.0)\n",
      "Requirement already satisfied: PySocks!=1.5.7,<2.0,>=1.5.6 in e:\\anaconda3\\envs\\datamind\\lib\\site-packages (from urllib3[socks]~=1.26->selenium) (1.7.1)\n",
      "Requirement already satisfied: pycparser in e:\\anaconda3\\envs\\datamind\\lib\\site-packages (from cffi>=1.14->trio~=0.17->selenium) (2.21)\n",
      "Requirement already satisfied: h11<1,>=0.9.0 in e:\\anaconda3\\envs\\datamind\\lib\\site-packages (from wsproto>=0.14->trio-websocket~=0.9->selenium) (0.14.0)\n",
      "Requirement already satisfied: webdriver-manager in e:\\anaconda3\\envs\\datamind\\lib\\site-packages (3.8.5)\n",
      "Requirement already satisfied: requests in e:\\anaconda3\\envs\\datamind\\lib\\site-packages (from webdriver-manager) (2.28.2)\n",
      "Requirement already satisfied: packaging in e:\\anaconda3\\envs\\datamind\\lib\\site-packages (from webdriver-manager) (23.0)\n",
      "Requirement already satisfied: tqdm in e:\\anaconda3\\envs\\datamind\\lib\\site-packages (from webdriver-manager) (4.64.1)\n",
      "Requirement already satisfied: python-dotenv in e:\\anaconda3\\envs\\datamind\\lib\\site-packages (from webdriver-manager) (0.21.1)\n",
      "Requirement already satisfied: urllib3<1.27,>=1.21.1 in e:\\anaconda3\\envs\\datamind\\lib\\site-packages (from requests->webdriver-manager) (1.26.14)\n",
      "Requirement already satisfied: idna<4,>=2.5 in e:\\anaconda3\\envs\\datamind\\lib\\site-packages (from requests->webdriver-manager) (3.4)\n",
      "Requirement already satisfied: certifi>=2017.4.17 in e:\\anaconda3\\envs\\datamind\\lib\\site-packages (from requests->webdriver-manager) (2022.12.7)\n",
      "Requirement already satisfied: charset-normalizer<4,>=2 in e:\\anaconda3\\envs\\datamind\\lib\\site-packages (from requests->webdriver-manager) (3.0.1)\n",
      "Requirement already satisfied: colorama in e:\\anaconda3\\envs\\datamind\\lib\\site-packages (from tqdm->webdriver-manager) (0.4.6)\n"
     ]
    }
   ],
   "source": [
    "#Comando de Instalação:\n",
    "!pip install selenium\n",
    "!pip install webdriver-manager\n",
    "\n",
    "#Selenium para trabalhar a Automação Web\n",
    "#webdriver-manager para gerenciar automaticamente o webdriver, necessário para a Automação Web."
   ]
  },
  {
   "cell_type": "markdown",
   "id": "56e3f90d",
   "metadata": {},
   "source": [
    "## Importações:"
   ]
  },
  {
   "cell_type": "code",
   "execution_count": 12,
   "id": "d3549d48",
   "metadata": {},
   "outputs": [],
   "source": [
    "#Importações para automação web:\n",
    "from selenium import webdriver\n",
    "from webdriver_manager.chrome import ChromeDriverManager\n",
    "from selenium.webdriver.chrome.service import Service\n",
    "from selenium.webdriver.chrome.options import Options\n",
    "\n",
    "#Importaçõs pra trabalhar com o sistema\n",
    "import os\n",
    "\n",
    "#Importação para barra de progresso:\n",
    "from tqdm import tqdm"
   ]
  },
  {
   "cell_type": "raw",
   "id": "3ce815dc",
   "metadata": {},
   "source": [
    "webdriver -> Para controlar o navegador, o browser que será criado específico para a automação web;\n",
    "ChromeDriverManager -> Para baixar/atualizar a versão do webdriver, pro código estar sempre atualizado;"
   ]
  },
  {
   "cell_type": "markdown",
   "id": "2d039293",
   "metadata": {},
   "source": [
    "## Código:"
   ]
  },
  {
   "cell_type": "code",
   "execution_count": 16,
   "id": "afa32539",
   "metadata": {},
   "outputs": [
    {
     "name": "stdout",
     "output_type": "stream",
     "text": [
      "Digite o diretório para os arquivos\n",
      "\n",
      "Digite a pasta onde ficara esse arquivoCalipso_69867\n",
      "Insira a url da página que se queria acessar\n",
      "https://xfr139.larc.nasa.gov/sflops/Distribution/2023024155955_69867/\n"
     ]
    },
    {
     "name": "stderr",
     "output_type": "stream",
     "text": [
      "100%|████████████████████████████████████████████████████████████████████████████████| 958/958 [15:25<00:00,  1.04it/s]\n"
     ]
    },
    {
     "name": "stdout",
     "output_type": "stream",
     "text": [
      "Tudo Baixado\n"
     ]
    }
   ],
   "source": [
    "#inputs:\n",
    "diretorio = input('Digite o diretório para os arquivos\\n')\n",
    "pasta = input('Digite a pasta onde ficara esse arquivo') #Recomendação: Digite um nome significativo.\n",
    "\n",
    "if diretorio == '':\n",
    "    diretorio = r\"D:\\Estudo\\LASA - Laboratório de Aplicações de Satélite\\Dados\"\n",
    "\n",
    "folder_path = os.path.join(diretorio, pasta)\n",
    "if not os.path.exists(folder_path):\n",
    "    os.makedirs(folder_path)\n",
    "    \n",
    "pagina = input('Insira a url da página que se queria acessar\\n')\n",
    "\n",
    "# Configurando as opções:\n",
    "opcoes = Options()\n",
    "options.add_experimental_option(\"prefs\", {\n",
    "  \"download.default_directory\": folder_path,\n",
    "  \"download.prompt_for_download\": False,\n",
    "  \"download.directory_upgrade\": True,\n",
    "  \"safebrowsing.enabled\": True\n",
    "})\n",
    "\n",
    "#Criando o browser específico para a automação:\n",
    "servico = Service(ChromeDriverManager().install()) #Identifica a versão do google chrome e instala o chromedriver adequado\n",
    "navegador = webdriver.Chrome(options=opcoes,service=servico) #Criando o navegador e identificando o chromedriver\n",
    "\n",
    "try:\n",
    "    navegador.get(pagina)\n",
    "except:\n",
    "    print('Ih rapaz... Inseriu o url corretamente?')\n",
    "\n",
    "#Achando o elemento:\n",
    "elements = navegador.find_elements('xpath',\"/html/body/table/tbody/tr[*]/td[2]/a\") #Puxa todos os arquivos\n",
    "for element in tqdm(elements):\n",
    "    href = element.get_attribute(\"href\") #Checa se o elemento é para download\n",
    "    if href.endswith(\".hdf\"): #Sendo um arquivo de donwload, se a extensão for \".hdf\"\n",
    "        element.click()\n",
    "navegador.quit()\n",
    "print('Tudo Baixado')"
   ]
  },
  {
   "cell_type": "code",
   "execution_count": null,
   "id": "14f92d5f",
   "metadata": {},
   "outputs": [],
   "source": []
  }
 ],
 "metadata": {
  "kernelspec": {
   "display_name": "Python 3 (ipykernel)",
   "language": "python",
   "name": "python3"
  },
  "language_info": {
   "codemirror_mode": {
    "name": "ipython",
    "version": 3
   },
   "file_extension": ".py",
   "mimetype": "text/x-python",
   "name": "python",
   "nbconvert_exporter": "python",
   "pygments_lexer": "ipython3",
   "version": "3.9.16"
  }
 },
 "nbformat": 4,
 "nbformat_minor": 5
}
