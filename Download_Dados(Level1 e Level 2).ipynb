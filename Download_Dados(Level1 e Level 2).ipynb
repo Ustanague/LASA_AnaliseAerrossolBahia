{
 "cells": [
  {
   "cell_type": "markdown",
   "id": "2ce45560",
   "metadata": {},
   "source": [
    "## Packages:"
   ]
  },
  {
   "cell_type": "markdown",
   "id": "5c438c26",
   "metadata": {},
   "source": [
    "## Instalação:"
   ]
  },
  {
   "cell_type": "raw",
   "id": "c4d3450e",
   "metadata": {},
   "source": [
    "#Comando de Instalação:\n",
    "!pip install selenium\n",
    "!pip install webdriver-manager\n",
    "\n",
    "#Selenium para trabalhar a Automação Web\n",
    "#webdriver-manager para gerenciar automaticamente o webdriver, necessário para a Automação Web."
   ]
  },
  {
   "cell_type": "markdown",
   "id": "56e3f90d",
   "metadata": {},
   "source": [
    "## Importações:"
   ]
  },
  {
   "cell_type": "code",
   "execution_count": 1,
   "id": "d3549d48",
   "metadata": {},
   "outputs": [],
   "source": [
    "#Importações para automação web:\n",
    "from selenium import webdriver\n",
    "from webdriver_manager.chrome import ChromeDriverManager\n",
    "from selenium.webdriver.chrome.service import Service\n",
    "from selenium.webdriver.chrome.options import Options\n",
    "\n",
    "#Importação pra trabalhar com o sistema\n",
    "import os\n",
    "\n",
    "#Importação para barra de progresso:\n",
    "from tqdm import tqdm\n",
    "\n",
    "#Importação administrar os downloads:\n",
    "from time import sleep"
   ]
  },
  {
   "cell_type": "raw",
   "id": "3ce815dc",
   "metadata": {},
   "source": [
    "webdriver -> Para controlar o navegador, o browser que será criado específico para a automação web;\n",
    "ChromeDriverManager -> Para baixar/atualizar a versão do webdriver, pro código estar sempre atualizado;"
   ]
  },
  {
   "cell_type": "raw",
   "id": "6891adbc",
   "metadata": {},
   "source": [
    "Nota sobre o código:\n",
    "    Esse código foi pensado para baixar os arquivos solicitados pelo site -> https://subset.larc.nasa.gov/calipso/login.php que trata dos dados Level 1 e Level 2. Os dados Level 3 são baixados em outro site ('https://asdc.larc.nasa.gov/project/CALIPSO') que funciona de forma diferente, e por isso, precisa de outra forma de se fazer os downloads... Forma essa que está destacada em outro arquivo."
   ]
  },
  {
   "cell_type": "markdown",
   "id": "2d039293",
   "metadata": {},
   "source": [
    "## Download:"
   ]
  },
  {
   "cell_type": "code",
   "execution_count": 2,
   "id": "fd5dbc30",
   "metadata": {},
   "outputs": [
    {
     "name": "stdout",
     "output_type": "stream",
     "text": [
      "Digite o diretório para os arquivos\n",
      "D:\\Estudo\\LASA\\Dados\\Bahia\n",
      "Digite a pasta onde ficara esse arquivoL2_VFM_area1\n",
      "Insira a url da página que se queria acessar\n",
      "https://xfr139.larc.nasa.gov/sflops/Distribution/2023045144714_70013/\n"
     ]
    },
    {
     "name": "stderr",
     "output_type": "stream",
     "text": [
      "100%|██████████████████████████████████████████████████████████████████████████████████████████████████| 664/664 [22:31<00:00,  2.04s/it]\n"
     ]
    },
    {
     "name": "stdout",
     "output_type": "stream",
     "text": [
      "Tudo Baixado\n"
     ]
    }
   ],
   "source": [
    "#inputs:\n",
    "diretorio = input('Digite o diretório para os arquivos\\n')\n",
    "pasta = input('Digite a pasta onde ficara esse arquivo') #Recomendação: Digite um nome significativo.\n",
    "pagina = input('Insira a url da página que se queria acessar\\n')\n",
    "\n",
    "'''\n",
    "    OBS: caso queira colocar um valor padrão para as variáveis de entrada (inputs),\n",
    "pode montar simplesmente uma estrutura de condicional:\n",
    "if diretorio == '':\n",
    "    diretorio = #Nome do seu diretório\n",
    "    \n",
    "Note:\n",
    "    O diretorio nesse contexto é o caminho até a pasta e a pasta é onde ficaram os arquivos,\n",
    "poderia ser tudo junto, mas com grandes quantidades de arquivos, ficaria bagunçado. Por uma questão\n",
    "de organização, prefiri dividir, inclusive já para criar em quem for utilizar o código esse costume,\n",
    "de usar pastas diferentes e não embolar os arquivos tudo junto.\n",
    "'''\n",
    "\n",
    "folder_path = os.path.join(diretorio, pasta)\n",
    "if not os.path.exists(folder_path):\n",
    "    os.makedirs(folder_path)\n",
    "\n",
    "# Configurando as opções:\n",
    "opcoes = Options()\n",
    "opcoes.add_experimental_option(\"prefs\", {\n",
    "  \"download.default_directory\": folder_path,\n",
    "  \"download.prompt_for_download\": False,\n",
    "  \"download.directory_upgrade\": True,\n",
    "  \"safebrowsing.enabled\": True\n",
    "})\n",
    "\n",
    "#Criando o browser específico para a automação:\n",
    "servico = Service(ChromeDriverManager().install()) #Identifica a versão do google chrome e instala o chromedriver adequado\n",
    "navegador = webdriver.Chrome(options=opcoes,service=servico) #Criando o navegador e identificando o chromedriver\n",
    "\n",
    "try:\n",
    "    navegador.get(pagina)\n",
    "except:\n",
    "    print('Ih rapaz... Inseriu o url corretamente?')\n",
    "\n",
    "#Achando o elemento:\n",
    "elements = navegador.find_elements('xpath',\"/html/body/table/tbody/tr[*]/td[2]/a\") #Puxa todos os arquivos\n",
    "for element in tqdm(elements):\n",
    "    href = element.get_attribute(\"href\") #Checa se o elemento é para download\n",
    "    if href.endswith(\".hdf\"): #Sendo um arquivo de donwload, se a extensão for \".hdf\"\n",
    "        element.click()\n",
    "    sleep(1)\n",
    "sleep(3)\n",
    "navegador.quit()\n",
    "print('Tudo Baixado')"
   ]
  },
  {
   "cell_type": "raw",
   "id": "eeb11f4b",
   "metadata": {},
   "source": []
  }
 ],
 "metadata": {
  "kernelspec": {
   "display_name": "Python 3 (ipykernel)",
   "language": "python",
   "name": "python3"
  },
  "language_info": {
   "codemirror_mode": {
    "name": "ipython",
    "version": 3
   },
   "file_extension": ".py",
   "mimetype": "text/x-python",
   "name": "python",
   "nbconvert_exporter": "python",
   "pygments_lexer": "ipython3",
   "version": "3.9.16"
  }
 },
 "nbformat": 4,
 "nbformat_minor": 5
}
