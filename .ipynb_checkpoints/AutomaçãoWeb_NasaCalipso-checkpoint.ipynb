{
 "cells": [
  {
   "cell_type": "markdown",
   "id": "2ce45560",
   "metadata": {},
   "source": [
    "## Packages:"
   ]
  },
  {
   "cell_type": "markdown",
   "id": "5c438c26",
   "metadata": {},
   "source": [
    "## Instalação:"
   ]
  },
  {
   "cell_type": "raw",
   "id": "c4d3450e",
   "metadata": {},
   "source": [
    "#Comando de Instalação:\n",
    "!pip install selenium\n",
    "!pip install webdriver-manager\n",
    "\n",
    "#Selenium para trabalhar a Automação Web\n",
    "#webdriver-manager para gerenciar automaticamente o webdriver, necessário para a Automação Web."
   ]
  },
  {
   "cell_type": "markdown",
   "id": "56e3f90d",
   "metadata": {},
   "source": [
    "## Importações:"
   ]
  },
  {
   "cell_type": "code",
   "execution_count": null,
   "id": "d3549d48",
   "metadata": {},
   "outputs": [],
   "source": [
    "# Importações para automação web:\n",
    "from selenium import webdriver\n",
    "from webdriver_manager.chrome import ChromeDriverManager\n",
    "from selenium.webdriver.chrome.service import Service\n",
    "from selenium.webdriver.chrome.options import Options\n",
    "\n",
    "# Importação pra trabalhar com o sistema\n",
    "import os\n",
    "import sys\n",
    "\n",
    "# Importação para barra de progresso:\n",
    "from tqdm import tqdm\n",
    "\n",
    "# Importação administrar os downloads:\n",
    "import time"
   ]
  },
  {
   "cell_type": "raw",
   "id": "3ce815dc",
   "metadata": {},
   "source": [
    "webdriver -> Para controlar o navegador, o browser que será criado específico para a automação web;\n",
    "ChromeDriverManager -> Para baixar/atualizar a versão do webdriver, pro código estar sempre atualizado;"
   ]
  },
  {
   "cell_type": "raw",
   "id": "9bd79c13",
   "metadata": {},
   "source": [
    "Nota sobre o Código:\n",
    "    Existem dois sites principais para baixar os dados do Calipso. A página https://subset.larc.nasa.gov/calipso/login.php, onde podemos separar a área que gostariamos de baixar, porém não possui os dados de Level 3 que pode ser baixados na página https://asdc.larc.nasa.gov/project/CALIPSO.\n",
    "    \n",
    "    Cada página possui uma forma diferente para baixar o conjunto de dados, sendo assim, o código foi desenvido para lidar com a estrutura e as necessidades de cada página."
   ]
  },
  {
   "cell_type": "markdown",
   "id": "2d039293",
   "metadata": {},
   "source": [
    "## Download:"
   ]
  },
  {
   "cell_type": "code",
   "execution_count": null,
   "id": "6888e1ae",
   "metadata": {},
   "outputs": [],
   "source": [
    "class CalipsoDownloader:\n",
    "    '''\n",
    "        A classe Downloader foi construida para lidar com os donwloads\n",
    "    dos arquivos HDF para os dois casos que utilizamos, onde o donwload dos\n",
    "    dados de Level 2 é estruturado de uma forma diferente do download dos \n",
    "    dados de Level 3.\n",
    "    '''\n",
    "    def __init__(self, folder_path, page):\n",
    "        self.folder_path = folder_path\n",
    "        self.page = page\n",
    "        self.opcoes = Options()\n",
    "        self.opcoes.add_experimental_option(\"prefs\", {\n",
    "          \"download.default_directory\": self.folder_path,\n",
    "          \"download.prompt_for_download\": False,\n",
    "          \"download.directory_upgrade\": True,\n",
    "          \"safebrowsing.enabled\": True\n",
    "        })\n",
    "        self.servico = Service(ChromeDriverManager().install())\n",
    "        self.navegador = webdriver.Chrome(options=self.opcoes,service=self.servico)\n",
    "    \n",
    "    def downloadL2(self):\n",
    "        try:\n",
    "            self.navegador.get(self.page)\n",
    "        except:\n",
    "            print('Ih rapaz... Inseriu o url corretamente?')\n",
    "        \n",
    "        elements = self.navegador.find_elements('xpath',\"/html/body/table/tbody/tr[*]/td[2]/a\")\n",
    "        hrefs = [element.get_attribute(\"href\") for element in elements]\n",
    "        for href in tqdm(hrefs):\n",
    "            if href.endswith(\".hdf\"):\n",
    "                self.navegador.get(href)\n",
    "            time.sleep(1)\n",
    "        time.sleep(3)\n",
    "        self.navegador.quit()\n",
    "        print('Tudo Baixado')\n",
    "        \n",
    "    def downloadL3(self):\n",
    "        email = input('Insira seu email:\\n')\n",
    "        senha = input('Insira sua senha:\\n')\n",
    "        self.navegador.get(self.page)\n",
    "        self.navegador.find_element('xpath','//*[@id=\"username\"]').send_keys(email)\n",
    "        self.navegador.find_element('xpath','//*[@id=\"password\"]').send_keys(senha)\n",
    "        self.navegador.find_element('xpath','//*[@id=\"login\"]/p[8]/input').click()\n",
    "        time.sleep(25)\n",
    "        expand_botton = self.navegador.find_element('xpath',\n",
    "                                           '//*[@id=\"app\"]/div/div/div/div/section/div/div/div[2]/ul/li/div/div[2]/div/div[1]/div[2]/header/button[3]/span')\n",
    "        expand_botton.click()\n",
    "        elements = self.navegador.find_elements('xpath',\"/html/body/div[7]/div/div/div[2]/div/div/ul/li[*]/a\")\n",
    "        hrefs = [element.get_attribute(\"href\") for element in elements]\n",
    "        for href in tqdm(hrefs):\n",
    "            try:\n",
    "                self.navegador.get(href)\n",
    "            except WebDriverException:\n",
    "                print(\"Erro ao acessar o link, tentando novamente em 5 segundos...\")\n",
    "                time.sleep(5)\n",
    "                self.navegador.get(href)\n",
    "            time.sleep(1)\n",
    "        time.sleep(3)\n",
    "        self.navegador.quit()\n",
    "        print('Tudo Baixado')"
   ]
  },
  {
   "cell_type": "code",
   "execution_count": null,
   "id": "8f3d102b",
   "metadata": {},
   "outputs": [],
   "source": [
    "# Input para definição do tipo de download: \n",
    "print('''\n",
    "    Vale ressaltar que a forma de se baixar os dados do L2 servem\n",
    "para o L1 também, ou seja, L2 como resposta também serve como resposta para L1\n",
    "''')\n",
    "escolha = input('Qual tipo de dado gostaria de baixar? (L2/L3)')\n",
    "\n",
    "# Checagem da entrada:\n",
    "if escolha != \"L2\" and escolha != \"L3\":\n",
    "    print('Essa é uma escolha binária, ou é L2 ou L3')\n",
    "    sys.exit()\n",
    "    \n",
    "#inputs:\n",
    "diretorio = input('Digite o diretório para os arquivos\\n')\n",
    "pasta = input('Digite a pasta onde ficara esse arquivo') #Recomendação: Digite um nome significativo.\n",
    "pagina = input('Insira a url da página que se queria acessar\\n')\n",
    "\n",
    "'''\n",
    "    OBS: caso queira colocar um valor padrão para as variáveis de entrada (inputs),\n",
    "pode montar simplesmente uma estrutura de condicional:\n",
    "if diretorio == '':\n",
    "    diretorio = #Nome do seu diretório\n",
    "    \n",
    "Note:\n",
    "    O diretorio nesse contexto é o caminho até a pasta e a pasta é onde ficaram os arquivos,\n",
    "poderia ser tudo junto, mas com grandes quantidades de arquivos, ficaria bagunçado. Por uma questão\n",
    "de organização, prefiri dividir, inclusive já para criar em quem for utilizar o código esse costume,\n",
    "de usar pastas diferentes e não embolar os arquivos tudo junto.\n",
    "'''\n",
    "# Configurações da Pasta\n",
    "folder_path = os.path.join(diretorio, pasta)\n",
    "if not os.path.exists(folder_path):\n",
    "    os.makedirs(folder_path)\n",
    "\n",
    "\n",
    "# Instanciando a classe correspondente à escolha do usuário\n",
    "if escolha == \"L2\":\n",
    "    downloader = CalipsoDownloader(folder_path, pagina).downloadL2()\n",
    "    \n",
    "if escolha == \"L3\":\n",
    "    downloader = CalipsoDownloader(folder_path, pagina).downloadL3()"
   ]
  }
 ],
 "metadata": {
  "kernelspec": {
   "display_name": "Python 3 (ipykernel)",
   "language": "python",
   "name": "python3"
  },
  "language_info": {
   "codemirror_mode": {
    "name": "ipython",
    "version": 3
   },
   "file_extension": ".py",
   "mimetype": "text/x-python",
   "name": "python",
   "nbconvert_exporter": "python",
   "pygments_lexer": "ipython3",
   "version": "3.9.16"
  }
 },
 "nbformat": 4,
 "nbformat_minor": 5
}
